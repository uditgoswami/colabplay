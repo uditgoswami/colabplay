{
  "nbformat": 4,
  "nbformat_minor": 0,
  "metadata": {
    "colab": {
      "name": "Connect_git.ipynb",
      "provenance": []
    },
    "kernelspec": {
      "name": "python3",
      "display_name": "Python 3"
    }
  },
  "cells": [
    {
      "cell_type": "markdown",
      "metadata": {
        "id": "5lqQInLFYMi6",
        "colab_type": "text"
      },
      "source": [
        "**How to connect your github repo to google colab**"
      ]
    },
    {
      "cell_type": "markdown",
      "metadata": {
        "id": "Q56K_uB_ZCxX",
        "colab_type": "text"
      },
      "source": [
        "In the following notebook we will see how can we connect our git repo to google colab notebook. \n",
        "Google colab is an amazing resource if you are into machine learning and deep learning\n",
        "With access to GPU's' and good processing power, you can build, train and test your deep learning models without worrying about computational power and memory shortage"
      ]
    },
    {
      "cell_type": "code",
      "metadata": {
        "id": "AH4Oc2wEY8Yb",
        "colab_type": "code",
        "colab": {}
      },
      "source": [
        "from google.colab import drive"
      ],
      "execution_count": 0,
      "outputs": []
    },
    {
      "cell_type": "code",
      "metadata": {
        "id": "30XxnqbkZcxT",
        "colab_type": "code",
        "colab": {}
      },
      "source": [
        "drive.mount('/content/gdrive')"
      ],
      "execution_count": 0,
      "outputs": []
    },
    {
      "cell_type": "markdown",
      "metadata": {
        "id": "Zw_gi3G4ka1N",
        "colab_type": "text"
      },
      "source": [
        "Above command will output an URL to get the authorization code to connect your google drive to the notebook. Visit the URL, copy the code and paste it on the authorization code prompt and voila! your drive is connected. Do the \"ls\" command as mentioned below and you can see the contents of your gdrive."
      ]
    },
    {
      "cell_type": "code",
      "metadata": {
        "id": "x3nJ22AmZg3D",
        "colab_type": "code",
        "colab": {}
      },
      "source": [
        "! ls"
      ],
      "execution_count": 0,
      "outputs": []
    },
    {
      "cell_type": "code",
      "metadata": {
        "id": "3msuY6lrZ7lH",
        "colab_type": "code",
        "colab": {}
      },
      "source": [
        "cd sample_data"
      ],
      "execution_count": 0,
      "outputs": []
    },
    {
      "cell_type": "markdown",
      "metadata": {
        "id": "Uda-i6T9k-en",
        "colab_type": "text"
      },
      "source": [
        "redirect to your desired folder and then just \"git clone\" along with the URL of the repo needed to be cloned."
      ]
    },
    {
      "cell_type": "code",
      "metadata": {
        "id": "6Eiq6gsVaOXG",
        "colab_type": "code",
        "colab": {}
      },
      "source": [
        "! git clone https://github.com/uditgoswami/colabplay.git"
      ],
      "execution_count": 0,
      "outputs": []
    },
    {
      "cell_type": "markdown",
      "metadata": {
        "id": "_RCNA3UInqFs",
        "colab_type": "text"
      },
      "source": [
        "Now, you have your git repo cloned. You can run any script using the \"! python command\". Enjoy and keep helping and sharing your progress."
      ]
    },
    {
      "cell_type": "markdown",
      "metadata": {
        "id": "0z5KWu2vn4bN",
        "colab_type": "text"
      },
      "source": [
        "Special thanks to https://medium.com/@ashwindesilva for this. Check out his page."
      ]
    }
  ]
}